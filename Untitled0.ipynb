{
  "nbformat": 4,
  "nbformat_minor": 0,
  "metadata": {
    "colab": {
      "provenance": [],
      "authorship_tag": "ABX9TyMl9HrhLOYba6uTdFAiE0cj",
      "include_colab_link": true
    },
    "kernelspec": {
      "name": "python3",
      "display_name": "Python 3"
    },
    "language_info": {
      "name": "python"
    }
  },
  "cells": [
    {
      "cell_type": "markdown",
      "metadata": {
        "id": "view-in-github",
        "colab_type": "text"
      },
      "source": [
        "<a href=\"https://colab.research.google.com/github/YhajLp18/TAREA-DAD/blob/main/Untitled0.ipynb\" target=\"_parent\"><img src=\"https://colab.research.google.com/assets/colab-badge.svg\" alt=\"Open In Colab\"/></a>"
      ]
    },
    {
      "cell_type": "code",
      "execution_count": null,
      "metadata": {
        "colab": {
          "base_uri": "https://localhost:8080/"
        },
        "id": "k83HY8juu11K",
        "outputId": "37a3fb9e-1a83-4108-e6bf-8883b6dc0e75"
      },
      "outputs": [
        {
          "output_type": "stream",
          "name": "stdout",
          "text": [
            "Requirement already satisfied: pycryptodome in /usr/local/lib/python3.11/dist-packages (3.22.0)\n",
            "🔐 Tarjeta cifrada (Base64): jQ+csyjiIIvvXft1y9RHlHG/Zz1P6lCycxSAG5gQaY0=\n",
            "🔒 Clave AES cifrada con RSA (Base64): EPOt4YosxCvk9w6PdaqOwxiRKzSHpeoBvX1TtdeMM+JmtlnwRgfbZnnd38tjMWyjr682SFeo3H8Ob+ltQ3+QtjIJU4SjruoHOEFw/mq1BwVG6WdTdZwW6sq6OH1vLieJCxsNk4GHebA/kU4weJtVQVhS1PoYMRuFhVWijypB2S16dJBSo9C4Wk8/e2BuqEOCpx8dE9lEOrC8SlMoV+J8sqSW1HPnxnroIqy/s5ggvuTAJPHaTjwOREJK3pgARDt5msJJ7hMPhhEVHe5IDF5TD1xYymcpemoPZsvyn7lxg/1Hx0mNujd9hLgNLTp6t4mnsJ8BGJboeQ+bv++qNgq0NA==\n",
            "🔓 Clave AES descifrada: 51b32c7852c9f18aaf03b75a87f8f30d297402a68b4b6d0750c5e42189c24e6e\n",
            "💳 Tarjeta de crédito descifrada: 77777895467\n"
          ]
        }
      ],
      "source": [
        "# 🚀 INSTALAR DEPENDENCIAS\n",
        "!pip install pycryptodome\n",
        "\n",
        "# 📌 IMPORTAR LIBRERÍAS\n",
        "from Crypto.Cipher import AES, PKCS1_OAEP\n",
        "from Crypto.Util.Padding import pad, unpad\n",
        "from Crypto.Random import get_random_bytes\n",
        "from Crypto.PublicKey import RSA\n",
        "import base64\n",
        "\n",
        "# 🔹 1️⃣ GENERAR CLAVE AES Y CIFRAR TARJETA\n",
        "tarjeta_credito = \"77777895467\"  # Ejemplo de número de tarjeta\n",
        "\n",
        "# Generar clave AES de 256 bits (32 bytes)\n",
        "clave_aes = get_random_bytes(32)\n",
        "\n",
        "# Crear cifrador AES en modo CBC\n",
        "iv = get_random_bytes(16)  # Vector de inicialización\n",
        "cipher = AES.new(clave_aes, AES.MODE_CBC, iv)\n",
        "\n",
        "# Cifrar los datos con padding\n",
        "datos_cifrados = cipher.encrypt(pad(tarjeta_credito.encode(), AES.block_size))\n",
        "\n",
        "# Convertir a Base64 para almacenar seguro\n",
        "datos_cifrados_b64 = base64.b64encode(iv + datos_cifrados).decode()\n",
        "print(\"🔐 Tarjeta cifrada (Base64):\", datos_cifrados_b64)\n",
        "\n",
        "# 🔹 2️⃣ GENERAR CLAVES RSA Y CIFRAR LA CLAVE AES\n",
        "# Generar clave RSA de 2048 bits\n",
        "clave_rsa = RSA.generate(2048)\n",
        "clave_publica = clave_rsa.publickey()\n",
        "\n",
        "# Cifrar la clave AES con RSA\n",
        "cipher_rsa = PKCS1_OAEP.new(clave_publica)\n",
        "clave_aes_cifrada = cipher_rsa.encrypt(clave_aes)\n",
        "\n",
        "# Convertir la clave AES cifrada a Base64\n",
        "clave_aes_cifrada_b64 = base64.b64encode(clave_aes_cifrada).decode()\n",
        "print(\"🔒 Clave AES cifrada con RSA (Base64):\", clave_aes_cifrada_b64)\n",
        "\n",
        "# 🔹 3️⃣ DESCIFRAR LA CLAVE AES CON RSA\n",
        "cipher_rsa_descifrado = PKCS1_OAEP.new(clave_rsa)\n",
        "clave_aes_descifrada = cipher_rsa_descifrado.decrypt(base64.b64decode(clave_aes_cifrada_b64))\n",
        "\n",
        "print(\"🔓 Clave AES descifrada:\", clave_aes_descifrada.hex())\n",
        "\n",
        "# 🔹 4️⃣ DESCIFRAR LA TARJETA DE CRÉDITO CON AES\n",
        "# Extraer IV y datos cifrados\n",
        "datos_cifrados_decoded = base64.b64decode(datos_cifrados_b64)\n",
        "iv_recuperado = datos_cifrados_decoded[:16]\n",
        "datos_cifrados_real = datos_cifrados_decoded[16:]\n",
        "\n",
        "# Crear descifrador AES con la clave recuperada\n",
        "cipher_dec = AES.new(clave_aes_descifrada, AES.MODE_CBC, iv_recuperado)\n",
        "\n",
        "# Descifrar y quitar padding\n",
        "tarjeta_descifrada = unpad(cipher_dec.decrypt(datos_cifrados_real), AES.block_size).decode()\n",
        "\n",
        "print(\"💳 Tarjeta de crédito descifrada:\", tarjeta_descifrada)\n",
        "\n",
        "\n",
        "!git config --global user.name \"YhajLp18\"\n",
        "!git config --global user.email \"yhajaira.leon@upeu.edu.pe\"\n",
        "\n"
      ]
    }
  ]
}